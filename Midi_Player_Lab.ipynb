{
  "cells": [
    {
      "cell_type": "markdown",
      "metadata": {
        "id": "view-in-github",
        "colab_type": "text"
      },
      "source": [
        "<a href=\"https://colab.research.google.com/github/jwosborne-knox/cudaBlur/blob/main/Midi_Player_Lab.ipynb\" target=\"_parent\"><img src=\"https://colab.research.google.com/assets/colab-badge.svg\" alt=\"Open In Colab\"/></a>"
      ]
    },
    {
      "cell_type": "markdown",
      "source": [
        "# Setup"
      ],
      "metadata": {
        "id": "vdp9hxpHIFtX"
      }
    },
    {
      "cell_type": "markdown",
      "source": [
        "To do this lab, you need to go into the Runtime menu, select \"Change runtime type\" and select a GPU hardware accelerator.\n",
        "\n",
        "In addition, run the following cell to install some necessary functionality."
      ],
      "metadata": {
        "id": "S_7oxI-ZGVQy"
      }
    },
    {
      "cell_type": "code",
      "execution_count": null,
      "metadata": {
        "id": "sdPP3UCVdSsw"
      },
      "outputs": [],
      "source": [
        "# Install AnyCmd module, for specifying more detailed commands to be run upon a cell (https://github.com/zenarcher007/AnyCmd)\n",
        "!pip3 install anycmd-jupyter-magic\n",
        "%load_ext anycmd\n",
        "# Note: please ignore the warning about needing to restart your runtime."
      ]
    },
    {
      "cell_type": "markdown",
      "source": [
        "In addition, you need to upload the given code MIDI_lab.zip for this lab; select the file button to the left, then the upload button (up arrow inside a document).  Then, run the following code cell to open it:"
      ],
      "metadata": {
        "id": "p-nlHZM8EjgI"
      }
    },
    {
      "cell_type": "code",
      "source": [
        "!unzip \"MIDI_lab.zip\" && rm \"MIDI_lab.zip\""
      ],
      "metadata": {
        "id": "ERXYejsTo1Ij"
      },
      "execution_count": null,
      "outputs": []
    },
    {
      "cell_type": "markdown",
      "source": [
        "Next, we need the MIDI file that we're going to convert.  Download a copy of Beethoven's Fifth Symphony using this link:\n",
        "\n",
        "https://kunstderfuge.com/-/midi.asp?file=beethoven/symphony_5_1_(c)cvikl.mid\n",
        "\n",
        "It's to a subscription site (http://kunstderfuge.com/), but you are allowed 5 downloads a day without even registering.\n",
        "\n",
        "Once you've downloaded that file, upload it to the notebook following the same procedure as above."
      ],
      "metadata": {
        "id": "SCYDoSC0DbxT"
      }
    },
    {
      "cell_type": "markdown",
      "source": [
        "# MIDI to WAV conversion"
      ],
      "metadata": {
        "id": "SW5hGt8RH0sk"
      }
    },
    {
      "cell_type": "markdown",
      "source": [
        "Now, we're ready for the actual lab.  The next cell contains serial code to convert a MIDI file (controlled by the variable midFile, but currently set to symphony_5_1_(c)cvikl.mid) into a WAV file (out.wav).  Run it and then use the next cell to play the output file."
      ],
      "metadata": {
        "id": "kAbtuC3-IN2H"
      }
    },
    {
      "cell_type": "code",
      "execution_count": null,
      "metadata": {
        "id": "_4GbpoJ7pYM5"
      },
      "outputs": [],
      "source": [
        "%%any -l -p -i -d. -- nvcc -O3 %FILE.cu MidiFile/*.cpp -lstdc++fs -o file && ./file\n",
        "// Sequential Version of MIDI converter\n",
        "//\n",
        "//  Originally created by Justin Douty on 7/8/22.\n",
        "\n",
        "#define TUNING 264 // An arbitrary number specifying the \"tuning\" of the virtual instruments. Use this to tune the music to the correct pitch.\n",
        "#define DECAY 0.45 // The decay of the notes after they stop playing, in seconds.\n",
        "\n",
        "#include <iostream>\n",
        "#include <experimental/filesystem>\n",
        "#include <cmath>\n",
        "#include <string.h>\n",
        "#include \"MidiFile/MidiFile.h\" // Midi parsing library https://github.com/craigsapp/midifile\n",
        "#include \"WavHeader.h\"\n",
        "#include \"InstLoader.h\"\n",
        "\n",
        "using namespace std;\n",
        "using namespace smf; // Midi library namespace\n",
        "\n",
        "int main(int argc, const char * argv[]) {\n",
        "  /* Specify the files of instruments to use here, in order of their channels... */\n",
        "  string instDataNames[16] = {\"Flute.wav\", \"Oboe.wav\", \"Clarinet.wav\", \"Bassoon.wav\", \"FrenchHorn.wav\", \"Trumpet.wav\", \"Timpani.wav\", \"Cello.wav\", \"Cello.wav\", \"Cello.wav\", \"Cello.wav\", \"Strings.wav\", \"Violin.wav\", \"Strings.wav\", \"Cello.wav\", \"Contrabass.wav\"};\n",
        "  string instDir = \"InstrumentData\"; // The name of the instruments base directory\n",
        "  string midFile = \"symphony_5_1_(c)cvikl.mid\"; // Specify the name of the MIDI file to play here\n",
        "  \n",
        "  \n",
        "  InstLoader lab(instDir, instDataNames); // Read and allocate memory for instrument sound data\n",
        "  cout << \"Instrument data uses \" << ((lab.getInstDataSize()*sizeof(float)) / 1024) / 1024 << \" MiB\\n\";\n",
        "  \n",
        "  MidiFile mFile; // Midi library\n",
        "  if(! mFile.read(midFile)) {\n",
        "    cerr << \"Error opening input MIDI file!\\n\";\n",
        "    exit(1);\n",
        "  }\n",
        "  mFile.joinTracks(); // Combine all tracks into a single event stream\n",
        "  mFile.doTimeAnalysis(); // Analyze absolute starting time, in seconds, of each note.\n",
        "  mFile.linkNotePairs(); // Analyze duration of each note.\n",
        "  \n",
        "  int trackSize = mFile[0].size();\n",
        "  \n",
        "  int totalSteps = mFile.getFileDurationInSeconds() * 44100 + DECAY*44100;\n",
        "  float* audioData = new float[totalSteps]; // Allocate a large portion of memory for the resulting audio data\n",
        "  memset((void*) audioData, 0, totalSteps * sizeof(float)); // Clear this allocation\n",
        "  \n",
        "  auto start_time = std::chrono::high_resolution_clock::now(); // Measure start time\n",
        "  \n",
        "  for(int event = 0; event < trackSize; ++event) {\n",
        "    MidiEvent* e = &mFile[0][event]; // Current MIDI event.\n",
        "    if(! e->isNoteOn()) continue; // We are only concerned with note-on events; the library provides us with the length of the note.\n",
        "    \n",
        "    InstSection instSection = lab.getInstSection(e->getChannel()); // Retrieve instrument data of the specified channel\n",
        "    float pitchMultiplier = (440.0f*pow(2.0f, ((e->getKeyNumber()-69)/12.0f))) / (float) TUNING; // Converts MIDI note numbers into a pitch stretch factor.\n",
        "    float velocityMultiplier = e->getVelocity() / 127.0; // Convert 0-127 velocity into 0-1\n",
        "    \n",
        "    // start < end < decayEnd\n",
        "    unsigned long start = e->seconds * 44100; // Start offset in resulting audio\n",
        "    \n",
        "    unsigned long idealEndPos = (unsigned long) (start + e->getDurationInSeconds() * 44100); // The ideal length of the note\n",
        "    unsigned long actualEndPos = (unsigned long) (start + instSection.size / pitchMultiplier); // Length limited according to end of instSection\n",
        "    unsigned long end = min(idealEndPos, actualEndPos); // End offset in resulting audio for main portion of note\n",
        "    \n",
        "    // End offset for note decay, same limiting schemantics as for \"end\"\n",
        "    unsigned long decayEnd = min( (unsigned long) (end + DECAY*44100), (unsigned long) (start + instSection.size / pitchMultiplier));\n",
        "    \n",
        "    /* Render Note */\n",
        "    for(unsigned long x = start; x < end; x++) {\n",
        "      unsigned long instOffset = (unsigned long) ((x-start) * pitchMultiplier);\n",
        "      audioData[x] += instSection.data[instOffset] * velocityMultiplier;\n",
        "    }\n",
        "    \n",
        "    /* Render Note Decay */\n",
        "    unsigned long noteSize = decayEnd - end;\n",
        "    for(unsigned long x = end; x < decayEnd; x++) {\n",
        "      unsigned long instOffset = (x - start) * pitchMultiplier;\n",
        "      float releaseVol = (float) (decayEnd - x) / (float) noteSize;\n",
        "      audioData[x] += instSection.data[instOffset] * velocityMultiplier * releaseVol;\n",
        "    }\n",
        "  }\n",
        "  \n",
        "  auto end_time = std::chrono::high_resolution_clock::now();\n",
        "  cerr << \"EXECUTION TIME: \" << std::chrono::duration_cast<std::chrono::milliseconds>(end_time - start_time).count() << \" milliseconds\\n\";\n",
        "  \n",
        "  InstLoader::writeWaveFile(audioData, totalSteps, \"out.wav\"); // Write data to a WAVE file\n",
        "}"
      ]
    },
    {
      "cell_type": "code",
      "execution_count": null,
      "metadata": {
        "id": "mh7v0i_2w9ZH"
      },
      "outputs": [],
      "source": [
        "# Run this cell to play a portion of the generated audio file.\n",
        "import numpy as np\n",
        "import IPython.display as ipd\n",
        "\n",
        "# You can set the start and end percentages of the song to play, or download the file from Colab and listen\n",
        "start = 0\n",
        "end = 5\n",
        "\n",
        "a = np.fromfile(\"out.wav\", dtype=np.float32, offset=90+4*start, sep=\"\") # Read data from output file\n",
        "startPos = int( 90 + (start / 100) * (len(a)-90) )\n",
        "endPos = int( 90 + (end / 100) * (len(a)-90) )\n",
        "\n",
        "ipd.Audio(a[startPos : endPos], rate=44100, autoplay = True) # Download and play audio"
      ]
    },
    {
      "cell_type": "markdown",
      "source": [
        "Now you're ready to \"CUDAify\" the translation process.  The cell below is the beginning of this.  The kernel processNote is called once for each note.  It should act as a replacement for the paragraphs of code marked \"Render Note\" and \"Render Note Decay\" in the serial version above.\n",
        "\n",
        "When you are ready, run your code and play the resulting file (out_cuda.wav) using the bottom cell."
      ],
      "metadata": {
        "id": "rynNPnMxKLMe"
      }
    },
    {
      "cell_type": "code",
      "source": [
        "%%any -l -p -i -d. -- nvcc -O3 %FILE.cu MidiFile/*.cpp -lstdc++fs -o file && ./file | head -n 10\n",
        "//  Beginning of CUDA version\n",
        "//\n",
        "//  Originally created by Justin Douty on 7/8/22.\n",
        "\n",
        "#define TUNING 264\n",
        "// An arbitrary number specifying the \"tuning\" of the virtual instruments. Use this to tune the music to the correct pitch.\n",
        "\n",
        "#define DECAY 0.50\n",
        "// The decay of the notes after they stop playing, in seconds.\n",
        "\n",
        "#include <iostream>\n",
        "#include <cmath>\n",
        "#include <string.h>\n",
        "#include <chrono>\n",
        "#include \"MidiFile/MidiFile.h\" // Midi parsing library https://github.com/craigsapp/midifile\n",
        "#include \"WavHeader.h\"\n",
        "#include \"CUDAInstLoader.h\"\n",
        "\n",
        "using namespace std;\n",
        "using namespace smf;\n",
        "\n",
        "// Note GPU Kernel\n",
        "// audioData: large allocation for the audio results of the entire song.\n",
        "// start: where this kernel should start writing to in audioData; start of the note\n",
        "// end: end of the note\n",
        "// decayEnd: end of the note's decay; where kernel stops writing\n",
        "// instSection: the instrument audio data (end is already constrained to prevent going off the end of the instrument section)\n",
        "__global__ void processNote(float* audioData, unsigned long start, unsigned long end, unsigned long decayEnd, InstSection instSection, float pitchMultiplier, float velocityMultiplier) {\n",
        "  unsigned long id = threadIdx.x + blockIdx.x * blockDim.x; \n",
        "  if(id < start)\n",
        "    return;\n",
        "  if(id+start >= decayEnd)\n",
        "    return;\n",
        "\n",
        "  ////////////////////////////\n",
        "  //TODO: update audioData[id]\n",
        "  ////////////////////////////\n",
        "\n",
        "\n",
        "  unsigned long instOffset = (unsigned long) ((id-start) * pitchMultiplier);\n",
        "  audioData[id] += instSection.data[instOffset] * velocityMultiplier;  \n",
        "   \n",
        "  unsigned long noteSize = decayEnd - end;\n",
        "  float releaseVol = (float) (decayEnd - id) / (float) noteSize;\n",
        "  audioData[id] += instSection.data[instOffset] * velocityMultiplier * releaseVol;\n",
        "\n",
        "\n",
        "}\n",
        "\n",
        "// Helper error-checking function for kernel launches\n",
        "void checkErrors(string kernName, bool* debugToken, int blocks, int threads) {\n",
        "  if(*debugToken) cudaDeviceSynchronize();\n",
        "    auto cuerr = cudaGetLastError(); // NOTE: \"This may return error codes from previous, asynchronous launches\" - https://docs.nvidia.com/cuda/cuda-runtime-api/group__CUDART__ERROR.html\n",
        "  if(cuerr != 0) { \n",
        "    printf(\"%s<<<%d, %d>>>: %s: %s\\n\", kernName.c_str(), blocks, threads, cudaGetErrorName(cuerr), cudaGetErrorString(cuerr));\n",
        "    *debugToken = true;\n",
        "  }\n",
        "}\n",
        "\n",
        "int main(int argc, const char * argv[]) {\n",
        "  std::setbuf(stdout, nullptr); // Disable output buffering\n",
        "  std::setbuf(stderr, nullptr);\n",
        "  \n",
        "  string midFile = \"symphony_5_1_(c)cvikl.mid\"; // Specify the name of the MIDI file here\n",
        "\n",
        "  // Define instrument audio data paths\n",
        "  string instDir = \"InstrumentData\";\n",
        "  /* Specify the order and files of instruments to use here... */\n",
        "  string instDataNames[16] = {\"Flute.wav\", \"Oboe.wav\", \"Clarinet.wav\", \"Bassoon.wav\", \"FrenchHorn.wav\", \"Trumpet.wav\", \"Timpani.wav\", \"Cello.wav\", \"Cello.wav\", \"Cello.wav\", \"Cello.wav\", \"Strings.wav\", \"Violin.wav\", \"Strings.wav\", \"Cello.wav\", \"Contrabass.wav\"};\n",
        "\n",
        "  /* ===== Load the instrument data files into memory. ===== */\n",
        "  CUDAInstLoader lab(instDir, instDataNames);\n",
        "\n",
        "  // Open and read in the midi file\n",
        "  MidiFile mFile;\n",
        "  if(! mFile.read(midFile)) {\n",
        "    cerr << \"Error opening input MIDI file!\\n\";\n",
        "    exit(1);\n",
        "  }\n",
        "  mFile.joinTracks(); // Combine all event scheduling into a single track\n",
        "  mFile.doTimeAnalysis(); // Finds the absolute starting points of all notes\n",
        "  mFile.linkNotePairs(); // Matches up note-on events to note-off events, and finds the time in-between.\n",
        "  \n",
        "  auto start_time = std::chrono::high_resolution_clock::now(); // Measure start time\n",
        "  \n",
        "  // Create, and zero final audio data (this will be the contents of the entire resulting WAVE file...)\n",
        "  int totalSteps = mFile.getFileDurationInSeconds() * 44100 + DECAY*44100; // The number of audio samples across the the total length of the WAVE data (as floats).\n",
        "  float* audioData_dev = nullptr;\n",
        "  if(cudaMalloc((void**) &audioData_dev, totalSteps * sizeof(float)) == cudaErrorMemoryAllocation) // Resulting audio data\n",
        "    printf(\"Error: not enough memory to allocate audio data on device\\n\");\n",
        "  cudaMemset((void*) audioData_dev, 0, totalSteps * sizeof(float)); // Clear to zero\n",
        "\n",
        "  /* Audio Generation Section */\n",
        "  int trackSize = mFile[0].size(); // The total number of events in the song\n",
        "  bool debugMode = false; // Set to true to synchronize the kernels to get more reliable error messages (slower)\n",
        "    \n",
        "  for(int event = 0; event < trackSize; ++event) {\n",
        "    //cout << event << \" / \" << trackSize << \"\\n\";\n",
        "    MidiEvent* e = &mFile[0][event]; // Current MIDI event.\n",
        "    if(! e->isNoteOn()) continue; // We only need to use note-on events and their duration.\n",
        "\n",
        "    InstSection section = lab.getInstSection(e->getChannel());\n",
        "    \n",
        "    // Converts MIDI note numbers into a pitch stretch factor.\n",
        "    float pitchMultiplier = (440.0f*pow(2.0f, ((e->getKeyNumber()-69)/12.0f)) / (float) TUNING);\n",
        "    float velocityMultiplier = (e->getVelocity()/127.0); // Convert 0-127 velocity into 0-1\n",
        "    \n",
        "    // start < end < decayEnd\n",
        "    unsigned long start = e->seconds * 44100;\n",
        "    unsigned long end = min( (unsigned long) (start + e->getDurationInSeconds() * 44100), (unsigned long) (start + section.size / pitchMultiplier) );\n",
        "    \n",
        "    unsigned long decayEnd = min( (unsigned long) (end + DECAY*44100), (unsigned long) (start + section.size / pitchMultiplier));\n",
        "    \n",
        "    // Find threads and blocks for note generation kernel\n",
        "    unsigned long noteSize = decayEnd;\n",
        "    if(noteSize == 0) continue;\n",
        "    int threads, blocks;\n",
        "    threads = 32; \n",
        "    blocks = (noteSize+threads-1) / threads;\n",
        "\n",
        "    processNote<<<blocks, threads>>>(audioData_dev, start, end, decayEnd, section, pitchMultiplier, velocityMultiplier);\n",
        "    checkErrors(\"Note Kernel\", &debugMode, blocks, threads);\n",
        "  }\n",
        "  \n",
        "  /* Copy audio data back from GPU */\n",
        "  float* audioData = new float[totalSteps];\n",
        "  cudaMemcpy(audioData, audioData_dev, sizeof(float) * totalSteps, cudaMemcpyDeviceToHost);\n",
        "\n",
        "  auto end_time = std::chrono::high_resolution_clock::now();\n",
        "  cerr << \"EXECUTION TIME: \" << std::chrono::duration_cast<std::chrono::milliseconds>(end_time - start_time).count() << \" milliseconds\\n\";\n",
        "  \n",
        "  lab.writeWaveFile(audioData, totalSteps, \"out_cuda.wav\");\n",
        "}\n"
      ],
      "metadata": {
        "id": "Ck4bHVyDg1ly"
      },
      "execution_count": null,
      "outputs": []
    },
    {
      "cell_type": "code",
      "execution_count": null,
      "metadata": {
        "id": "ER3AZ4ziKUpV"
      },
      "outputs": [],
      "source": [
        "# Run this cell to play a portion of the CUDA generated audio file.\n",
        "import numpy as np\n",
        "import IPython.display as ipd\n",
        "\n",
        "# You can set the start and end percentages of the song to play, or download the file from Colab and listen\n",
        "start = 0\n",
        "end = 5\n",
        "\n",
        "a = np.fromfile(\"out_cuda.wav\", dtype=np.float32, offset=90+4*start, sep=\"\") # Read data from output file\n",
        "startPos = int( 90 + (start / 100) * (len(a)-90) )\n",
        "endPos = int( 90 + (end / 100) * (len(a)-90) )\n",
        "\n",
        "ipd.Audio(a[startPos : endPos], rate=44100, autoplay = True) # Download and play audio"
      ]
    }
  ],
  "metadata": {
    "colab": {
      "private_outputs": true,
      "provenance": [],
      "include_colab_link": true
    },
    "gpuClass": "standard",
    "kernelspec": {
      "display_name": "Python 3",
      "name": "python3"
    },
    "language_info": {
      "name": "python"
    },
    "accelerator": "GPU"
  },
  "nbformat": 4,
  "nbformat_minor": 0
}